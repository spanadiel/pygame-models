{
 "cells": [
  {
   "cell_type": "code",
   "execution_count": 1,
   "id": "fd00cede-cb09-44a6-867b-635d1efd9d6c",
   "metadata": {},
   "outputs": [
    {
     "name": "stdout",
     "output_type": "stream",
     "text": [
      "pygame 2.5.2 (SDL 2.28.3, Python 3.12.1)\n",
      "Hello from the pygame community. https://www.pygame.org/contribute.html\n"
     ]
    }
   ],
   "source": [
    "import copy\n",
    "import pygame\n",
    "import numpy as np\n",
    "import networkx as nx\n",
    "import matplotlib.pyplot as plt"
   ]
  },
  {
   "cell_type": "markdown",
   "id": "462d41b0-7d32-4ae1-9506-06d61d14b2cf",
   "metadata": {},
   "source": [
    "### Simple Contagion"
   ]
  },
  {
   "cell_type": "code",
   "execution_count": 3,
   "id": "02935e15-53d9-4f28-a9dc-2409e5b6450a",
   "metadata": {},
   "outputs": [
    {
     "name": "stdout",
     "output_type": "stream",
     "text": [
      "-0.9109934292304952 0.9999999999999999\n",
      "-0.8290679644731752 0.8403929459854051\n"
     ]
    },
    {
     "data": {
      "image/png": "[encoded data removed]",
      "text/plain": [
       "<Figure size 400x400 with 1 Axes>"
      ]
     },
     "metadata": {},
     "output_type": "display_data"
    }
   ],
   "source": [
    "G = nx.barabasi_albert_graph(81, 1)\n",
    "pos = nx.kamada_kawai_layout(G)\n",
    "\n",
    "plt.figure(figsize=(4, 4))\n",
    "nx.draw_networkx_nodes(G, pos, node_size=30, node_color='k')\n",
    "nx.draw_networkx_edges(G, pos, alpha=0.3)\n",
    "plt.axis('off')\n",
    "\n",
    "xs, ys = zip(*pos.values())\n",
    "print(min(xs), max(xs))\n",
    "print(min(ys), max(ys))"
   ]
  },
  {
   "cell_type": "code",
   "execution_count": 4,
   "id": "2def594a-0c50-431e-986b-8b49f576cf43",
   "metadata": {},
   "outputs": [],
   "source": [
    "pygame.init()\n",
    "\n",
    "width = 400\n",
    "height = 400\n",
    "ticks = 1000\n",
    "screen = pygame.display.set_mode((width, height))\n",
    "clock = pygame.time.Clock()\n",
    "font = pygame.font.Font(None, 24)\n",
    "data = []\n",
    "\n",
    "# initialize game\n",
    "G = nx.barabasi_albert_graph(81, 1)\n",
    "pos = nx.kamada_kawai_layout(G)\n",
    "\n",
    "# G = nx.watts_strogatz_graph(81, 4, 0.1)\n",
    "# pos = nx.kamada_kawai_layout(G)\n",
    "\n",
    "# G = nx.grid_2d_graph(9, 9)\n",
    "# pos = {n: np.array(n) for n in G.nodes}\n",
    "\n",
    "# networkx borders\n",
    "xs, ys = zip(*pos.values())\n",
    "min_x = min(xs)\n",
    "max_x = max(xs)\n",
    "min_y = min(ys)\n",
    "max_y = max(ys)\n",
    "\n",
    "# other params\n",
    "infection_chance = 0.03\n",
    "spreading_chance = 0.7\n",
    "recovery_chance = 0.1\n",
    "\n",
    "for n in G.nodes:\n",
    "    if np.random.random() < infection_chance:\n",
    "        G.nodes[n]['state'] = 'i' # infected \n",
    "    else:\n",
    "        G.nodes[n]['state'] = 's' # susceptible\n",
    "    \n",
    "\n",
    "running = True\n",
    "for tick in range(ticks):\n",
    "\n",
    "    # set the frames per second FPS\n",
    "    clock.tick(3)\n",
    "\n",
    "    # set the initial screen color in RGB\n",
    "    screen.fill((255, 255, 255))\n",
    "\n",
    "    # copy for simultanious update\n",
    "    new_G = copy.deepcopy(G)\n",
    "\n",
    "    # update game\n",
    "    for n in G.nodes:\n",
    "        if G.nodes[n]['state'] == 'i':\n",
    "            # get neighbors and infect them\n",
    "            for nb in G.neighbors(n):\n",
    "                if G.nodes[nb]['state'] == 's':\n",
    "                    if np.random.random() < spreading_chance:\n",
    "                        new_G.nodes[nb]['state'] = 'i'\n",
    "            \n",
    "            # recovery with a certain probability\n",
    "            if np.random.random() < recovery_chance:\n",
    "                new_G.nodes[n]['state'] = 'r'\n",
    "\n",
    "    # copy for simultanious update\n",
    "    G = copy.deepcopy(new_G)\n",
    "\n",
    "    # draw update nodes\n",
    "    for u, v in G.edges:\n",
    "        # map networkx pos to screen\n",
    "        x1, y1 = pos[u]\n",
    "        x2, y2 = pos[v]\n",
    "        \n",
    "        screen_x1 = (x1 - min_x) / (max_x - min_x) * (width - 40) + 20\n",
    "        screen_y1 = (y1 - min_y) / (max_y - min_y) * (height - 40) + 20\n",
    "        screen_x2 = (x2 - min_x) / (max_x - min_x) * (width - 40) + 20\n",
    "        screen_y2 = (y2 - min_y) / (max_y - min_y) * (height - 40) + 20\n",
    "\n",
    "        # draw line\n",
    "        pygame.draw.line(screen, (0, 0, 0, 0.9), (screen_x1, screen_y1), (screen_x2, screen_y2))\n",
    "\n",
    "    # draw update edges\n",
    "    for n in G.nodes:\n",
    "        # colors \n",
    "        if G.nodes[n]['state'] == 'i':\n",
    "            color = (255, 0, 0)\n",
    "        if G.nodes[n]['state'] == 's':\n",
    "            color = (155, 155, 155)\n",
    "        if G.nodes[n]['state'] == 'r':\n",
    "            color = (0, 0, 255)\n",
    "            \n",
    "        # map networkx pos to screen\n",
    "        x, y = pos[n]\n",
    "        screen_x = (x - min_x) / (max_x - min_x) * (width-40) + 20\n",
    "        screen_y = (y - min_y) / (max_y - min_y) * (height-40) + 20\n",
    "        center = screen_x, screen_y\n",
    "\n",
    "        # draw circle\n",
    "        pygame.draw.circle(screen, color, center, 7)\n",
    "        pygame.draw.circle(screen, (0, 0, 0), center, 8, 1)\n",
    "\n",
    "    # display and update the current tick\n",
    "    text = font.render(str(tick), True, (0, 0, 0))\n",
    "    screen.blit(text, (10, 10))\n",
    "    \n",
    "    # update the whole screen\n",
    "    pygame.display.flip()\n",
    "\n",
    "    # store data for each tick\n",
    "    infected = 0\n",
    "    susceptible = 0\n",
    "    recovered = 0\n",
    "    for n in G.nodes:\n",
    "        if G.nodes[n]['state'] == 'i':\n",
    "            infected += 1\n",
    "        if G.nodes[n]['state'] == 's':\n",
    "            susceptible += 1\n",
    "        if G.nodes[n]['state'] == 'r':\n",
    "            recovered += 1\n",
    "    data.append([infected, susceptible, recovered])\n",
    "\n",
    "    # handle the exit buttom\n",
    "    for event in pygame.event.get():\n",
    "        if event.type == pygame.QUIT:\n",
    "            pygame.quit()\n",
    "            running = False\n",
    "            \n",
    "    # and break the loop\n",
    "    if not running:\n",
    "        break\n",
    "    \n",
    "pygame.quit()"
   ]
  },
  {
   "cell_type": "code",
   "execution_count": 164,
   "id": "2203fc71-8978-4746-a4ee-a2f342b0bdd1",
   "metadata": {},
   "outputs": [],
   "source": [
    "infected, susceptible, recovered = zip(*data)"
   ]
  }
 ],
 "metadata": {
  "kernelspec": {
   "display_name": "Python 3 (ipykernel)",
   "language": "python",
   "name": "python3"
  },
  "language_info": {
   "codemirror_mode": {
    "name": "ipython",
    "version": 3
   },
   "file_extension": ".py",
   "mimetype": "text/x-python",
   "name": "python",
   "nbconvert_exporter": "python",
   "pygments_lexer": "ipython3",
   "version": "3.12.1"
  }
 },
 "nbformat": 4,
 "nbformat_minor": 5
}
