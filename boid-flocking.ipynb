{
 "cells": [
  {
   "cell_type": "code",
   "execution_count": 2,
   "id": "dba40825-666c-4cbf-8f3e-2143e85ef4a4",
   "metadata": {},
   "outputs": [
    {
     "name": "stdout",
     "output_type": "stream",
     "text": [
      "pygame 2.5.2 (SDL 2.28.3, Python 3.12.1)\n",
      "Hello from the pygame community. https://www.pygame.org/contribute.html\n"
     ]
    }
   ],
   "source": [
    "import pygame\n",
    "import numpy as np\n",
    "import matplotlib.pyplot as plt"
   ]
  },
  {
   "cell_type": "markdown",
   "id": "cf502303-3d96-46c0-85fb-0d1de69e0ef7",
   "metadata": {},
   "source": [
    "### Boid Flocking"
   ]
  },
  {
   "cell_type": "code",
   "execution_count": 3,
   "id": "3754e6ef-5b06-453d-b520-880524cb3db6",
   "metadata": {},
   "outputs": [],
   "source": [
    "class Boid:\n",
    "    def __init__(self, position, velocity, perception):\n",
    "        self.position = position\n",
    "        self.velocity = velocity\n",
    "        self.perception = perception\n",
    "\n",
    "    def flock(self, boids):\n",
    "        center_of_vel = np.zeros(2)\n",
    "        center_of_sep = np.zeros(2)\n",
    "        center_of_pos = np.zeros(2)\n",
    "\n",
    "        counter = 0\n",
    "        for other in boids:\n",
    "            if other != self:\n",
    "                distance = np.linalg.norm(other.position - self.position)\n",
    "                if distance < self.perception:\n",
    "                    center_of_vel += other.velocity\n",
    "                    center_of_sep += (self.position - other.position) / np.linalg.norm(self.position - other.position)**2\n",
    "                    center_of_pos += other.position\n",
    "                    counter += 1\n",
    "\n",
    "        if counter > 0:\n",
    "            center_of_vel = center_of_vel / counter\n",
    "            center_of_sep = center_of_sep / counter\n",
    "            center_of_pos = center_of_pos / counter\n",
    "\n",
    "            alignment_factor = 0.01\n",
    "            separation_factor = 0.5\n",
    "            cohesion_factor = 0.001\n",
    "            \n",
    "            alignment = center_of_vel * alignment_factor\n",
    "            separation = center_of_sep * separation_factor\n",
    "            cohesion = (center_of_pos - self.position) * cohesion_factor\n",
    "            self.velocity = self.velocity + alignment + separation + cohesion\n",
    "\n",
    "        max_speed = 3\n",
    "        self.velocity = self.velocity / np.linalg.norm(self.velocity) * max_speed\n",
    "        self.position += self.velocity\n",
    "        \n",
    "\n",
    "    def draw(self, screen):\n",
    "        size = 4\n",
    "        color = (0, 0, 0)\n",
    "        pygame.draw.circle(screen, color, self.position, size)\n",
    "        "
   ]
  },
  {
   "cell_type": "code",
   "execution_count": 6,
   "id": "178afa17-101c-44d6-9826-94f74d6007cf",
   "metadata": {},
   "outputs": [],
   "source": [
    "pygame.init()\n",
    "\n",
    "width = 400\n",
    "height = 400\n",
    "ticks = 2000\n",
    "screen = pygame.display.set_mode((width, height))\n",
    "clock  = pygame.time.Clock()\n",
    "font = pygame.font.Font(None, 24)\n",
    "data = []\n",
    "\n",
    "# initialize game \n",
    "boids = []\n",
    "for i in range(30):\n",
    "    position = np.random.uniform(0, 400, 2)\n",
    "    velocity = np.random.uniform(-1, 1, 2)\n",
    "    perception = 100\n",
    "    boid = Boid(position, velocity, perception)\n",
    "    boids.append(boid)\n",
    "\n",
    "running = True\n",
    "for tick in range(ticks):\n",
    "\n",
    "    # set the frames per second FPS\n",
    "    clock.tick(60)\n",
    "\n",
    "    # set the initial screen color in RGB\n",
    "    screen.fill((255, 255, 255))\n",
    "\n",
    "    # update game\n",
    "    for boid in boids:\n",
    "        boid.flock(boids)\n",
    "\n",
    "    # handle borders\n",
    "    for boid in boids:\n",
    "        x, y = boid.position\n",
    "        if x < 0:\n",
    "            boid.position[0] = 400\n",
    "        if x > 400:\n",
    "            boid.position[0] = 0\n",
    "        if y < 0:\n",
    "            boid.position[1] = 400\n",
    "        if y > 400:\n",
    "            boid.position[1] = 0\n",
    "            \n",
    "        \n",
    "    # draw update\n",
    "    for boid in boids:\n",
    "        boid.draw(screen)   \n",
    "\n",
    "    # display and update the current tick\n",
    "    text = font.render(str(tick), True, (0, 0, 0))\n",
    "    screen.blit(text, (10, 10))\n",
    "    \n",
    "    # update the whole screen\n",
    "    pygame.display.flip()\n",
    "\n",
    "    # store data for each tick\n",
    "    total_cosine_similarity = 0\n",
    "    average_velocity = np.mean([boid.velocity for boid in boids], axis=0)\n",
    "\n",
    "    for boid in boids:\n",
    "        cosine_similarity = np.dot(boid.velocity, average_velocity) / (np.linalg.norm(boid.velocity) * np.linalg.norm(average_velocity))\n",
    "        total_cosine_similarity += cosine_similarity\n",
    "\n",
    "    total_cosine_similarity = total_cosine_similarity / len(boids)\n",
    "    data.append(total_cosine_similarity)\n",
    "\n",
    "    # handle the exit buttom\n",
    "    for event in pygame.event.get():\n",
    "        if event.type == pygame.QUIT:\n",
    "            pygame.quit()\n",
    "            running = False\n",
    "            \n",
    "    # and break the loop\n",
    "    if not running:\n",
    "        break\n",
    "    \n",
    "pygame.quit()"
   ]
  },
  {
   "cell_type": "code",
   "execution_count": 7,
   "id": "f6bbf238-42af-4140-b620-d445d3161ad3",
   "metadata": {},
   "outputs": [
    {
     "name": "stdout",
     "output_type": "stream",
     "text": [
      "[0.26036718189584757, 0.2605674221641922, 0.260380146947466, 0.2594514526717023, 0.25863273940212184, 0.2587160090101609, 0.25869739368613187, 0.2580307566138244, 0.2573150044807654, 0.2573381279565122]\n"
     ]
    }
   ],
   "source": [
    "print(data)"
   ]
  }
 ],
 "metadata": {
  "kernelspec": {
   "display_name": "Python 3 (ipykernel)",
   "language": "python",
   "name": "python3"
  },
  "language_info": {
   "codemirror_mode": {
    "name": "ipython",
    "version": 3
   },
   "file_extension": ".py",
   "mimetype": "text/x-python",
   "name": "python",
   "nbconvert_exporter": "python",
   "pygments_lexer": "ipython3",
   "version": "3.12.1"
  }
 },
 "nbformat": 4,
 "nbformat_minor": 5
}
