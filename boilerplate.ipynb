{
 "cells": [
  {
   "cell_type": "code",
   "execution_count": 2,
   "id": "da9c0dc0-2b45-4bb8-b366-6fd661b29532",
   "metadata": {},
   "outputs": [
    {
     "name": "stdout",
     "output_type": "stream",
     "text": [
      "pygame 2.5.2 (SDL 2.28.3, Python 3.12.1)\n",
      "Hello from the pygame community. https://www.pygame.org/contribute.html\n"
     ]
    }
   ],
   "source": [
    "import pygame\n",
    "import numpy as np\n",
    "import matplotlib.pyplot as plt"
   ]
  },
  {
   "cell_type": "markdown",
   "id": "7e538b17-90a4-4a2e-bba9-4804f9ad9f50",
   "metadata": {},
   "source": [
    "### Boilerplate"
   ]
  },
  {
   "cell_type": "code",
   "execution_count": 3,
   "id": "c79257f8-71c1-4138-8925-341b00956928",
   "metadata": {},
   "outputs": [],
   "source": [
    "pygame.init()\n",
    "\n",
    "width = 400\n",
    "height = 400\n",
    "ticks = 1000\n",
    "screen = pygame.display.set_mode((width, height))\n",
    "clock = pygame.time.Clock()\n",
    "font = pygame.font.Font(None, 24)\n",
    "data = []\n",
    "\n",
    "# initialize game \n",
    "# ...\n",
    "# ...\n",
    "# ... \n",
    "\n",
    "running = True\n",
    "for tick in range(ticks):\n",
    "\n",
    "    # set the frames per second FPS\n",
    "    clock.tick(60)\n",
    "\n",
    "    # set the initial screen color in RGB\n",
    "    screen.fill((255, 255, 255))\n",
    "\n",
    "    # update game\n",
    "    # ...\n",
    "    # ...\n",
    "    # ...\n",
    "\n",
    "    # draw game \n",
    "    # ...\n",
    "    # ...\n",
    "    # ...\n",
    "\n",
    "    # display and update the current tick\n",
    "    text = font.render(str(tick), True, (0, 0, 0))\n",
    "    screen.blit(text, (10, 10))\n",
    "    \n",
    "    # update the whole screen\n",
    "    pygame.display.flip()\n",
    "\n",
    "    # store data for each tick\n",
    "    # ...\n",
    "    # ...\n",
    "    # ...\n",
    "    data.append(tick)\n",
    "\n",
    "    # handle the exit buttom\n",
    "    for event in pygame.event.get():\n",
    "        if event.type == pygame.QUIT:\n",
    "            pygame.quit()\n",
    "            running = False\n",
    "            \n",
    "    # and break the loop\n",
    "    if not running:\n",
    "        break\n",
    "    \n",
    "pygame.quit()"
   ]
  },
  {
   "cell_type": "code",
   "execution_count": 4,
   "id": "d6567c97-edb5-49c6-9645-593b12e337fb",
   "metadata": {},
   "outputs": [
    {
     "name": "stdout",
     "output_type": "stream",
     "text": [
      "[0, 1, 2, 3, 4, 5, 6, 7, 8, 9, 10, 11, 12, 13, 14, 15, 16, 17, 18, 19, 20, 21, 22, 23, 24, 25, 26, 27, 28, 29, 30, 31, 32, 33, 34, 35, 36, 37, 38, 39, 40, 41, 42, 43, 44, 45, 46, 47, 48, 49, 50, 51, 52, 53, 54, 55, 56, 57, 58, 59, 60, 61, 62, 63, 64, 65, 66, 67, 68, 69, 70, 71, 72, 73, 74, 75, 76, 77, 78, 79, 80, 81, 82, 83, 84, 85, 86, 87, 88, 89, 90, 91, 92, 93, 94, 95, 96, 97, 98, 99]\n"
     ]
    }
   ],
   "source": [
    "print(data)"
   ]
  },
  {
   "cell_type": "code",
   "execution_count": null,
   "id": "83e9a75e-076a-4b4e-871e-65ef4d104f22",
   "metadata": {},
   "outputs": [],
   "source": []
  }
 ],
 "metadata": {
  "kernelspec": {
   "display_name": "Python 3 (ipykernel)",
   "language": "python",
   "name": "python3"
  },
  "language_info": {
   "codemirror_mode": {
    "name": "ipython",
    "version": 3
   },
   "file_extension": ".py",
   "mimetype": "text/x-python",
   "name": "python",
   "nbconvert_exporter": "python",
   "pygments_lexer": "ipython3",
   "version": "3.12.1"
  }
 },
 "nbformat": 4,
 "nbformat_minor": 5
}
